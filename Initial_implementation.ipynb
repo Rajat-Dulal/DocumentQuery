{
 "cells": [
  {
   "cell_type": "code",
   "execution_count": 1,
   "id": "b54c4189-5844-42ed-84d3-d132232caf3b",
   "metadata": {},
   "outputs": [],
   "source": [
    "#!pip install chromadb pypdf"
   ]
  },
  {
   "cell_type": "code",
   "execution_count": 2,
   "id": "442a2098-6092-4285-a6e8-f951ae6cde8f",
   "metadata": {},
   "outputs": [],
   "source": [
    "import urllib\n",
    "import warnings\n",
    "from pathlib import Path as p\n",
    "from pprint import pprint\n",
    "\n",
    "import pandas as pd\n",
    "from langchain import PromptTemplate\n",
    "from langchain.chains.question_answering import load_qa_chain\n",
    "from langchain.document_loaders import PyPDFLoader\n",
    "from langchain.text_splitter import RecursiveCharacterTextSplitter\n",
    "from langchain.vectorstores import Chroma\n",
    "from langchain_google_genai import GoogleGenerativeAIEmbeddings\n",
    "from langchain_google_genai import ChatGoogleGenerativeAI\n",
    "\n",
    "warnings.filterwarnings(\"ignore\")\n",
    "# restart python kernal if issues with langchain import."
   ]
  },
  {
   "cell_type": "code",
   "execution_count": 3,
   "id": "d1601e07-6bfe-4cb4-9ff3-15567292487a",
   "metadata": {},
   "outputs": [],
   "source": [
    "pdf_file = \"./storybook.pdf\"\n",
    "pdf_loader = PyPDFLoader(pdf_file)\n",
    "pages = pdf_loader.load_and_split()\n"
   ]
  },
  {
   "cell_type": "code",
   "execution_count": 4,
   "id": "1916362e-af4a-4473-9d40-26abb976c370",
   "metadata": {},
   "outputs": [],
   "source": [
    "text_splitter = RecursiveCharacterTextSplitter(chunk_size=10000, chunk_overlap=0)\n",
    "context = \"\\n\\n\".join(str(p.page_content) for p in pages)\n",
    "texts = text_splitter.split_text(context)"
   ]
  },
  {
   "cell_type": "code",
   "execution_count": 5,
   "id": "6dd3d71f-5066-49fd-b2a9-23e4237d0310",
   "metadata": {},
   "outputs": [],
   "source": [
    "embeddings = GoogleGenerativeAIEmbeddings(model=\"models/embedding-001\")"
   ]
  },
  {
   "cell_type": "code",
   "execution_count": 6,
   "id": "c135286b-04df-48d2-bf02-f3d8c27e8213",
   "metadata": {},
   "outputs": [],
   "source": [
    "vector_index = Chroma.from_texts(texts, embeddings).as_retriever()"
   ]
  },
  {
   "cell_type": "code",
   "execution_count": 7,
   "id": "d6cb16d3-0c1c-4706-998c-3572d0b6ab1f",
   "metadata": {},
   "outputs": [],
   "source": [
    "question = \"What is the moral of the story two frogs\"\n",
    "docs = vector_index.get_relevant_documents(question)"
   ]
  },
  {
   "cell_type": "code",
   "execution_count": 34,
   "id": "71661145-f2bd-48d4-8300-f2bbac78e8a1",
   "metadata": {},
   "outputs": [
    {
     "data": {
      "text/plain": [
       "[Document(page_content='Spoken English: Short Stories  \\n5 \\n LEVEL 1 : STORI ES FOR PRIMARY SCHOOL CHILDREN  \\nTHE WIND AND THE SUN  \\n \\nOnce the Wind and the Sun had an argument. “I am stronger than you,” said the Wind. “No, \\nyou are not,” said the Sun. Just at that moment they saw a traveler walking across the road. \\nHe was wrapped in a s hawl. The Sun and the Wind agreed that whoever could separate the \\ntraveller from his shawl was stronger.  \\nThe Wind took the first turn. He blew with all his might to tear the traveller’s shawl from his \\nshoulders. But the harder he blew, the tighter the trav eller gripped the shawl to his body. \\nThe struggle went on till the Wind’s turn was over.  \\nNow it was the Sun’s turn. The Sun smiled warmly. The traveller felt the warmth of the \\nsmiling Sun. Soon he let the shawl fall open. The Sun’s smile grew warmer and wa rmer... \\nhotter and hotter. Now the traveller no longer needed his shawl. He took it off and dropped \\nit on the ground. The Sun was declared stronger than the Wind.  \\n \\nMoral: Brute force can’t achieve what a gentle smile can.  \\n  \\nTHE VILLAGER AND THE SPECTACLES  \\n \\nThere was a villager. He was illiterate. He did not know how to read and write. He often saw \\npeople wearing spectacles for reading books or papers. He thought, “If I have spectacles, I \\ncan also read like these people. I must go to town and buy a pair of spectacles for myself.”  \\nSo one day he went to a town. He entered a spectacles shop He asked the shopkeeper for a \\npair of spectacles for reading. The shopkeeper gave him various pairs of spectacles and a \\nbook. The villager tried all the spectacles one by on e. But he could not read anything. He \\ntold the shopkeeper that all those spectacles were useless for him. The shopkeeper gave \\nhim a doubtful look. Then he looked at the book. It was upside down! The shopkeeper said, \\n“Perhaps you don’t know how to read.”  \\nThe villager said, “No, I don’t. I want to buy spectacles so that I can read like others. But I \\ncan’t read with any of these spectacles.” The shopkeeper controlled his laughter with great \\ndifficulty when he learnt the real problem of his illiterate customer.  \\nHe explained to the villager, “My dear friend, you are very ignorant. Spectacles don’t help to \\nread or write. They only help you to see better. First of all you must learn to read and \\nwrite.”  \\n \\nMoral: Ignorance is blindness.\\n\\nSpoken English: Short Stories  \\n6 \\n   \\nAS YOU SOW, SO SHALL Y OU REAP  \\n \\nOne night, three thieves stole a lot of money from a rich man’s house. They put the money \\nin a bag and went to the forest. They felt very hungry. So, one of them went to a nearby \\nvillage to buy food. The other two remained in the forest to take ca re of the bag of money.  \\nThe thief that went for food had an evil idea. He ate his food at a hotel. Then he bought \\nfood for his two mates in the forest. He mixed a strong poison with the food. He thought, \\n“Those two will eat this poisoned food and die. Then  I will get all the money for myself.”  \\nMeanwhile, the two wicked men in the forest decided to kill their mate on return. They \\nthought that they would divide the money between the two of them. All the three wicked \\nmen carried out their cruel plans. The thie f who wanted all the money for himself came to \\nthe forest with the poisoned food. The two men in the forest hit him and killed him. Then \\nthey ate the poisoned food and died.  \\nThus, these evil people met with an evil end.  \\n \\nMoral: Evil begets evil  \\n  \\n  \\n  \\nTHE F ARMER AND HIS SONS  \\n \\nA farmer had five sons. They were strong and hardworking. But they always quarrelled with \\none another. Sometimes, they even fought. The farmer wanted his sons to stop quarrelling \\nand fighting. He wanted them to live in peace. Plain word s of advice or scolding did not have \\nmuch effect on these young people.  \\nThe farmer always thought what to do to keep his sons united. One day he found an answer \\nto the problem. So he called all his sons together. He showed them a bundle of sticks and \\nsaid,  “I want any of you to break these sticks without separating them from the bundle.”  \\nEach of the five sons tried one by one. They used their full strength and skill. But none of \\nthem could break the sticks. Then the old man separated the sticks and gave eac h of them \\njust a single stick to break. They broke the sticks easily.  \\nThe farmer said, “A single stick by itself is weak. It is strong as long as it is tied up in a \\nbundle. Likewise, you will be strong if you are united. You will be weak if you are divided .” \\n \\nMoral: United we stand, Divided we fall.\\n\\nSpoken English: Short Stories  \\n7 \\n BIRBAL THE WISE  \\n \\nOne day, a rich merchant came to Birbal. He said to Birbal, “I have seven servants in my \\nhouse. One of them has stolen my bag of precious pearls. Please find out the thief.”  \\nSo Birbal went to the rich man’s house. He called all the seven servants in a room. He gave a \\nstick to each one of them. Then he said, “These are magic sticks. Just now all these sticks are \\nequal in length. Keep them with you and return tomorrow. If there is a thief  in the house, \\nhis stick will grow an inch longer by tomorrow.”  \\nThe servant who had stolen the bag of pearls was scared. He thought, “If I cut a piece of one \\ninch from my stick, I won’t be caught.” So he cut the stick and made it shorter by one inch.  \\nThe n ext day Birbal collected the sticks from the servants. He found that one servant’s stick \\nwas short by an inch. Birbal pointed his finger at him and said, “Here is the thief.” The \\nservant confessed to his crime. He returned the bag of pearls. He was sent to  jail. \\n   \\nTHE WOLF IN SHEEP’S CLOTHING  \\nOne day a wolf found a sheepskin. He covered himself with the sheepskin and got into a \\nflock of sheep grazing in a field. He thought, “The shepherd will shut the sheep in the pen \\nafter sunset. At night I will run away  with a fat sheep and eat it.  \\nAll went well till the shepherd shut the sheep in the pen and left. The wolf waited patiently \\nfor the night to advance and grow darker. But then an unexpected thing happened. One of \\nthe servants of the shepherd entered the pen . His master had sent him to bring a fat sheep \\nfor supper. As luck would have it, the servant picked up the wolf dressed in the sheepskin.  \\nThat night the shepherd and his guests had the wolf for supper.  \\nMoral: An evil design has an evil end.  \\n \\nHARE AND THE TORTOISE  \\nOnce a hare was roaming near a lake in a forest. Suddenly he saw a tortoise and mocked at \\nhim saying - \"Hurry up, you slow coach! Don\\'t you find life very dull taking so long to cover \\na few yards? I could have run to the other side of the lake by now.\"  \\nThe tortoise felt teased and dared the hare to a race. The race was to be through the wood \\nto a fixed goal.  \\nThe hare agreed laughingly. In a few minutes he was away and out of sight.  \\n\"What a funny race it is!\" he said to himself , \"I am already half -way through.  But it is too -\\ntoo cold; why not have a nap in the warm sunshine?\"  \\nThe tortoise walked steadily on and on. In a short time, he passed by the sleeping hare.\\n\\nSpoken English: Short Stories  \\n8 \\n The hare slept   far longer then he had intended.When he woke up at last, he looked \\narou nd in surprise and said to himself,\" Not even a sigh of the poor tortoise anywhere so \\nfar; I had better trot along and finish the race.\"  \\nThe hare ran to the goal. He was amazed to see all the animals cheering the tortoise who \\nhad arrived just a minute earl ier. how ashamed he felt indeed!  \\nMoral: Slow and steady wins the race  \\nNOBODY BELIEVES A LIAR  \\nOnce a mischievous boy lived in a village that stood in the feet of a hill. One day he thought \\nof having fun at the cost of his fellow -villagers.  \\n \\nStanding on a hi gh rock, he shouted at the top of his voice, \"Lion! Lion! Come, save me.\"  \\n \\nThe villagers heard the shout and ran to help him. But when they reached there, they could \\nsee no lion and the boy was perfectly all right. The boy laughed at the villagers saying, \"No \\nLion ; I did it only for fun.\"  \\n \\nThe villagers got highly annoyed and came back with an air of anger.   \\n \\nFew days later the boy repeated the whole act. Again the villagers went to his rescue but \\nwere duped again. Now they decided not to be fooled by him anymore.  \\n \\nUnfortunately, one day, the lion really came there. Now the boy shouted,  \"Lion! Lion! as \\nloud as he could\". But nobody came to help him out.  \\n \\nThe lion attacked the boy. The boy struggled hard to save himself but within few minutes, \\nthe beast kill ed him.  \\n \\nSo, once a liar, always a liar.'),\n",
       " Document(page_content='Short Stories  for Children  \\nfor  \\nSpoken English Program\\n\\nSpoken English: Short Stories  \\n2 \\n  \\nShort Stories for Children  \\nLEVEL 1: STORIES FOR PRIMARY SCHOOL CHILDREN  ................................ ................................ ..............  5 \\nTHE WIND AND THE SUN  ................................ ................................ ................................ ....................  5 \\nTHE VILLAGER AND THE SPECTACLES  ................................ ................................ ................................ . 5 \\nAS YOU SOW, SO SHALL YOU REAP  ................................ ................................ ................................ ..... 6 \\nTHE FARMER AND HIS SONS  ................................ ................................ ................................ ...............  6 \\nBIRBAL THE WISE  ................................ ................................ ................................ ................................  7 \\nTHE WOLF IN SHEEP’S CLOTHING  ................................ ................................ ................................ .......  7 \\nHARE AND THE TORTOISE  ................................ ................................ ................................ ...................  7 \\nNOB ODY BELIEVES A LIAR  ................................ ................................ ................................ ...................  8 \\nWORK IS WORSHIP  ................................ ................................ ................................ ..............................  9 \\nNEVER BE UNGRATEFUL  ................................ ................................ ................................ ......................  9 \\nKEEP YOUR EYES OPEN ................................ ................................ ................................ ......................  10 \\nLIVE AND LET LIVE  ................................ ................................ ................................ .............................  10 \\nTIME IS VALUABLE  ................................ ................................ ................................ .............................  11 \\nHAVE FAITH IN GOD  ................................ ................................ ................................ ..........................  11 \\nBLIND IMITATION IS BAD  ................................ ................................ ................................ ..................  11 \\nA FOX AND A CRANE  ................................ ................................ ................................ .........................  12 \\nLAUGHTER IS THE BEST MEDICINE  ................................ ................................ ................................ .... 13 \\nTHE STORY OF LORD GANESHA  ................................ ................................ ................................ .........  13 \\nEAGLES IN A STORM  ................................ ................................ ................................ ..........................  14\\n\\nSpoken English: Short Stories  \\n3 \\n THE ANT AND THE GRASSHOPPER  ................................ ................................ ................................ .... 14 \\nMOTHER’S DAY  ................................ ................................ ................................ ................................ . 15 \\nMOUNTAIN  ................................ ................................ ................................ ................................ .......  15 \\nTHE MISER  ................................ ................................ ................................ ................................ .........  16 \\nTWO FROGS  ................................ ................................ ................................ ................................ ...... 16 \\nSAND AND STONE  ................................ ................................ ................................ .............................  17 \\nLEVEL 2: STORIES FOR SECONDARY SCHOOL C HILDREN  ................................ ................................ .......  18 \\nA BOX FULL OF KISSES  ................................ ................................ ................................ .......................  18 \\nTHE PRAYING HANDS  ................................ ................................ ................................ ........................  18 \\nTHE FOUR WIVES  ................................ ................................ ................................ ..............................  20 \\nWAIT FOR THE BRICK  ................................ ................................ ................................ ........................  21 \\nPUPPIES FOR SALE  ................................ ................................ ................................ .............................  22 \\nTHE MAN, THE BOY AND THE DONKEY  ................................ ................................ .............................  23 \\nTHE WOODEN BOWL  ................................ ................................ ................................ ........................  24 \\nTREES THAT WOOD  ................................ ................................ ................................ ...........................  25 \\nPENCIL  ................................ ................................ ................................ ................................ ...............  27 \\nDAD’S BLESSINGS  ................................ ................................ ................................ ..............................  28 \\nTHE GREEDY CLOUD  ................................ ................................ ................................ ..........................  29 \\nA MAD MAN IN THE CITY  ................................ ................................ ................................ ..................  29 \\nNEVER MAKE FUN OF A RHINO  ................................ ................................ ................................ .........  31 \\nTHE MATH DUNCE  ................................ ................................ ................................ ............................  32 \\nTHE WHITE ROSE  ................................ ................................ ................................ ...............................  33 \\nTHE RUBY THIEF  ................................ ................................ ................................ ................................  34\\n\\nSpoken English: Short Stories  \\n4 \\n THE DRAWING THAT TALKED  ................................ ................................ ................................ ............  35 \\nTHE SINGING HIPPO  ................................ ................................ ................................ ..........................  37 \\nTHE INCREDIBLE BLACK RAIN  ................................ ................................ ................................ ............  38 \\nMY LITTLE WORLD HAS BROKEN  ................................ ................................ ................................ .......  39 \\nTHE UNFRIENDLY RIVER  ................................ ................................ ................................ ....................  40 \\nTHE TICKLING SCALES  ................................ ................................ ................................ ........................  41 \\nA DAY WITH PIGS  ................................ ................................ ................................ ..............................  41 \\nTHE WARM WHALE  ................................ ................................ ................................ ...........................  42 \\nTHE MAGIC WINDOW  ................................ ................................ ................................ .......................  43'),\n",
       " Document(page_content='Spoken English: Short Stories  \\n26 \\n When the woodsmen came upon the third tree, the tree was frightened because he knew \\nthat if they cut him down his dreams would not come true. One of the woodsmen said, \"I \\ndon\\'t need anything special from my tree so I\\'ll take  this one\", and he cut it down.  \\nWhen the first tree arrived at the carpenters, he was made into a feed box for animals. He \\nwas then placed in a barn and filled with hay. This was not at all what he had prayed for. The \\nsecond tree was cut and made into a small fishing boat. His dreams of being a mighty ship \\nand carrying kings had come to an end. The third tree was cut into large pieces and left \\nalone in the dark. The years went by, and the trees forgot about their dreams.  \\nThen one day, a man and wom an came to the barn. She gave birth and they placed the baby \\nin the hay in the feed box that was made from the first tree. The man wished that he could \\nhave made a crib for the baby, but this manger would have to do. The tree could feel the \\nimportance of t his event and knew that it had held the greatest treasure of all time. Years \\nlater, a group of men got in the fishing boat made from the second tree. One of them was \\ntired and went to sleep. While they were out on the water, a great storm arose and the tre e \\ndidn\\'t think it was strong enough to keep the men safe. The men woke the sleeping man, \\nand he stood and said \"Peace\" and the storm stopped. At this time, the tree knew that it \\nhad carried the King of Kings in its boat.  \\nFinally, someone came and got the t hird tree. It was carried through the streets as the \\npeople mocked the man who was carrying it. When they came to a stop, the man was nailed \\nto the tree and raised in the air to die at the top of a hill. When Sunday came, the tree came \\nto realize that it w as strong enough to stand at the top of the hill and be as close to God as \\nwas possible, because Jesus had been crucified on it.  \\nThe moral of this story is that when things don\\'t seem to be going your way, always know \\nthat God has a plan for you. If you pl ace your trust in Him, He will give you great gifts. Each \\nof the trees got what they wanted, just not in the way they had imagined. We don\\'t always \\nknow what God\\'s plans are for us. We just know that His ways are not our ways, but His \\nways are always best.\\n\\nSpoken English: Short Stories  \\n27 \\n  \\nPENCIL  \\nThe Pencil Maker took the pencil aside, just before putting him into the box.  \\n\"There are 5 things you need to know,\" he told the pencil, \"Before I send you out into the \\nworld. Always remember them and never forget, and you will become the be st pencil you \\ncan be.\"  \\n\"One: You will be able to do many great things, but only if you allow yourself to be held in \\nSomeone\\'s hand.\"  \\n\"Two: You will experience a painful sharpening from time to time, but you\\'ll need it to \\nbecome a better pencil.\"  \\n\"Three: Yo u will be able to correct any mistakes you might make.\"  \\n\"Four: The most important part of you will always be what\\'s inside.\"  \\n\"And Five: On every surface you are used on, you must leave your mark. No matter what the \\ncondition, you must continue to write.\"  \\nThe pencil understood and promised to remember, and went into the box with purpose in \\nits heart.  \\nNow replacing the place of the pencil with you.  Always remember them and never forget, \\nand you will become the best person you can be.  \\nOne: You will be able t o do many great things, but only if you allow yourself to be held in \\nGod\\'s hand. And allow other human beings to access you for the many gifts you possess.  \\nTwo: You will experience a painful sharpening from time to time, by going through various \\nproblems i n life, but you\\'ll need it to become a stronger person.  \\nThree: You will be able to correct any mistakes you might make.  \\nFour: The most important part of you will always be what\\'s on the inside.  \\nAnd Five: On every surface you walk through, you must leave your mark. No matter what \\nthe situation, you must continue to do your duties.\\n\\nSpoken English: Short Stories  \\n28 \\n Allow this parable on the pencil to encourage you to know that you are a special person and \\nonly you can fulfill the purpose to which you were born to accomplish.  \\nNever allow you rself to get discouraged and think that your life is insignificant and cannot \\nmake a change.  \\n \\nDAD’S BLESSINGS  \\nA young man was getting ready to graduate from college. For many months he had admired \\na beautiful sports car in a dealer\\'s showroom, and knowing his father could well afford it, he \\ntold him that was all he wanted.  \\nAs Graduation Day approached, the young man awaited signs that his father had purchased \\nthe car.  Finally, on the morning of his graduation, his father called  him into his private \\nstudy.  His father told him how proud he was to have such a fine son, and told him how \\nmuch he loved him. He handed his son a beautifully wrapped gift box.  Curious, but \\nsomewhat disappointed, the young man opened the box and found a lovely, leather -bound \\nBible, with the young man\\'s name embossed in gold. Angry, he raised his voice to his father \\nand said \"With all your money, you give me a Bible?\" and stormed out of the house, leaving \\nthe Bible.  \\nMany years passed and the young man was very successful in business. He had a beautiful \\nhome and  wonderful family, but realized his father was very old, and thought perhaps he \\nshould go  to  him.  He had not seen him since that graduation day.  Before he could make \\narrangements, he received a telegram telling him his fathe r had passed away, and willed all \\nof his possessions to his son. He needed to come home immediately and take care of things.  \\nWhen he arrived at his father\\'s house, sudden sadness and regret filled his heart.  He began \\nto search through his father\\'s importa nt papers and saw the still new Bible, just as he had \\nleft it  years ago.  With tears, he opened the Bible and began to turn the pages.  And as he \\ndid, a car key dropped from the back of the Bible.  It had a tag with the dealer\\'s name, the \\nsame dealer who had the sports car he had desired. On the tag was the date of his \\ngraduation, and the words PAID IN FULL.  \\nHow many times do we miss Spirit\\'s blessings and answers to our prayers  because they do \\nnot arrive exactly as we have expected?\\n\\nSpoken English: Short Stories  \\n29 \\n  \\nTHE GREEDY CLO UD \\nOnce upon a time lived on a cloud that was grown up over a very beautiful country. One \\nday, she saw another much bigger cloud and she felt so much envy, than the cloud decided \\nthat in order to get bigger and grow more, her water would never abandon her,  and will \\nnever start raining again.  \\nIndeed, the cloud grew up, while his country was getting dried. First, rivers dried up, then \\npeople, animals, plants, and finally, the whole country became a desert. The cloud did not \\ncare much, but she also did not rea lize that by being over a desert there was no place where \\nshe could obtain new water to keep growing. So slowly, the cloud began to lose size, and \\nwas unable to do anything to stop it .  \\nThe cloud then realized her mistake, and that her greed and selfishnes s were the cause of \\nher vanishing; but just before evaporating, when she was just a sigh of cotton, there started \\nblowing a gentle breeze. The cloud was so small and weighed so little that the wind took her \\nfar away, to a faraway beautiful country, where o nce again she recovered her original size.  \\nHaving learned this lesson, our cloud remained small and modest, but she became so \\ngenerous when raining, that her new country became even greener, giving away to all \\npeople there the most beautiful rainbow in the  world.  \\nA MAD MAN IN THE CITY  \\nJulian finally left his village when there was no one left living there. He had never left his \\nbeloved village before, but intrigued by the fact that everyone had gone to the city, he \\ndecided to go and see for himself what won derful things those cities had. So he packed a \\nknapsack with a few clothes, put on his best smile, and off he went to the city.  \\nOn reaching the city, he was given a most unexpected welcome. A couple of policemen \\nstopped Julian and questioned him in great d etail. It turned out that Julian had seemed \\n\\'suspiciously happy\\' for someone with hardly any possessions. In the end, the police had to \\nlet him go, but they were still suspicious about this apparently simple and good -natured \\nfellow.'),\n",
       " Document(page_content='Spoken English: Short Stories  \\n9 \\n WORK IS WORSHIP  \\nOne fine sunny day in winter, a grasshopper was basking in the warm sun. But he was very \\nhungry, as he had not eaten anything since last night.   \\n \\nSo, he looked about to find something to soothe his hunger. Suddenly, he saw few ants \\ncarrying grains into their hole.  \\n \\nHe went up to the ants and asked humbly, \"Can you, please, spare few grains for me. I \\nhaven\\'t eaten anything since yesterday. So, I am almost starving to death.\"  \\n \\nOne of the ants asked the  grasshopper, \"What were you doing the whole summer? Why \\ndidn\\'t you store up the food for the winter season?\"  \\n \\nThe grasshopper replied, \"Truly speaking, I spent all the summer singing songs and that\\'s \\nwhy I couldn\\'t store anything.\"  \\n \\nThe ant chucked out a smile and remarked, \"Then dance the winter away.\" The grasshopper \\npulled a long face and walked away.  \\n \\nSo we say \"Work is real worship\".  \\n \\nNEVER BE UNGRATEFUL  \\n \\nIt was high summer. The sun was extremely hot. Two travelers were going along a dusty \\nroad that had no trees along its sides. Looking for some shelter from the hot sun, they saw a \\ntree with big leaves and branches spread like an umbrella.   \\n \\nThey placed their b elongings on the ground and sat in the cool thick shade of the tree. After \\ntaking some rest, one traveler said to the other, \"What a useless tree it is! It bears no fruits \\nat all.\"  \\n \\nHearing this, the tree felt pinched and burst out, \"You ungrateful soul! O n one hand, you are \\ntaking shelter in my cool shade from the burning heat of the sun and on the other hand, you \\nare calling me useless. Get up and leave the place immediately to be scorched again.\"\\n\\nSpoken English: Short Stories  \\n10 \\n KEEP YOUR EYES OPEN  \\n \\nOnce upon a time there was a lion that grew so old that he was unable to kill any prey for \\nhis foo d. So, he said to himself, \"I must do something to stay my stomach else I will die of \\nstarvation.\"  \\n \\nHe kept thinking and thinking and at last an idea clicked him. He decided to lie down in the \\ncave pretending to be ill and then who -so-ever will come to enq uire about his health, will \\nbecome his prey. The old lion put his wicked plan into practice and it started working. Many \\nof his well -wishers got killed. But evil is short lived.  \\n \\nOne day, a fox came to visit the ailing lion. As foxes are clever by nature, the fox stood at the \\nmouth of the cave and looked about. His sixth sense worked and he came to know the \\nreality. So, he called out to the lion from outside and said, \"How are you, sir?\"  \\n \\nThe lion replied, \"I am not feeling well at all. But why don\\'t you co me inside?\"  \\n \\nThen the fox replied, \"I would love to come in, sir! But on seeing, all foot prints going to your \\ncave and none coming out, I would be foolish enough to come in.\"  \\n \\nSaying so, the fox went to alert the other animals.  \\n \\n \\nLIVE AND LET LIVE  \\n \\nOnce there was a big pool near a  village. The villagers used the water of the pool for \\ndrinking and for other purposes also. The pool was abounded with fish.  \\n \\nOnce a fisherman went fishing to the pool. He cast his net into the pool and sat down. But \\nhe was very impatient. So, he tied a l ong string to a small stone. Then putting it into the \\npool, he began to stir the water to drive more fish into his net.  \\n \\nA villager saw him do so and asked him not to make the water muddy. But the fisherman \\ndidn\\'t listen to him and went on beating the wate r and making it dirty. So, the villagers \\nbrought some companions armed with weapons. Seeing them, the fisherman got scared. He \\ndrew out his stone and apologized.\"\\n\\nSpoken English: Short Stories  \\n11 \\n TIME IS VALUABLE  \\n \\nAnthony was a very lazy boy and always used to postpone things. One day hi s father called \\nhim and made him understand the value of time that one should always do things on time. \\nAnthony promised his father that he would never postpone things.  \\n \\nOne day, he came to know that he had won the first prize in a singing competition that  was \\nheld the previous month. He was asked to collect the prize the same day. He didn\\'t care and \\nwent to collect the prize the next day. But the prize became useless for him, as it was a \\nticket to a circus show, which was held the previous day.   \\n \\nAnthony l earnt a lesson from this incident.  \\n \\nHAVE FAITH IN GOD  \\n \\nOnce a teacher had a disciple who used to live in a hermitage. One day, the disciple was \\ngoing somewhere. He hadn\\'t gone too far when suddenly it started raining cats and dogs. He \\nreturned and told thi s problem to his teacher. The teacher said, \"You should have faith in \\ngod. He will save you from all problems.\"  \\n \\nThe disciple obeyed and resumed his journey. He kept reciting the name of god and cleared \\nall the hurdles.   \\n \\nNext day, the teacher had to go on  the same route. When he reached a deep drain, he \\ndoubted whether god would save him or not. The teacher got drowned.  \\n \\nThus, doubt drowns you and faith saves you.  \\nBLIND IMITATION IS BAD  \\n \\nOne day, a saint while going somewhere with his disciples saw a pond full of fishes, on the \\nway. He stopped there and started filling his mouth with fish. The disciples followed their \\nguru. The saint said nothing to them and after some time moved ahead.  \\n \\nThen they reached another pond, where there were no fishes. The saint stood at its shore \\nand started taking out the fishes he had swallowed. When the disciples saw this, they were\\n\\nSpoken English: Short Stories  \\n12 \\n amazed and also tried to vomit out the fishes, but after many attempts, they could only take \\nout some dead fishes.  \\n \\nAt this, the saint said, \"Fool s, when you didn\\'t know how to keep the fishes alive in the \\nstomach, then why did you imitate me?\"  \\n \\nIts truly said that never imitate anyone.  \\n \\nA FOX AND A CRANE  \\n \\nOnce a fox and a crane became friends. So, the fox invited the crane to dinner. The crane \\nacce pted the invitation and reached the fox\\'s place at sunset.  \\n \\nThe fox had prepared soup for his mate. But as we all know that foxes are cunning by \\nnature, he served the soup in flat dishes. So, he himself lapped the crane\\'s share with his \\ntongue enjoying its  relish a lot. But the crane could not enjoy it at all with his long beak and \\nhad to get back home hungry. The shrewd fox felt extremely amused.  \\n \\nAfter few days, the crane invited the fox to dine in with him. The fox reached his place well \\nin time. The cra ne gave him a warm welcome and served the soup in a jug with a long and \\nnarrow neck.  \\n \\nSo, the crane enjoyed the soup with great relish using his long beak. The fox\\'s mouth \\ncouldn\\'t reach the soup through the narrow neck of the jug. He had to return home hu ngry. \\nNow he realized that he had been repaid for his behaviour with the crane.\\n\\nSpoken English: Short Stories  \\n13 \\n LAUGHTER IS THE BEST MEDICINE  \\n \\nOnce there lived a grumpy king. He never used to laugh nor allow anyone in the kingdom to \\nlaugh.  \\n \\nOne day, a small boy couldn\\'t control his  laughter. Later, scared of the punishment, he \\nthought of a plan. He wrote a funny story and converted it into a drama.   \\n \\nThen he went to the palace and asked the king, \"May I present my drama to you?\" the king \\nlet him do it. Then the boy started the play.  In the end, he came to the funniest part of the \\nstory which made the king laugh.   \\n \\nAll people present in the court were amazed. The king then allowed everybody to laugh. \\nEveryone then lived happily thereafter.  \\n  \\nTHE STORY OF LORD GANESHA  \\nOne day, Goddess Parvathi, the wife of Lord Shiva, was getting ready for her bath and \\nneeded someone to guard her chamber. Therefore she made a beautiful, young boy from \\nthe sandalwood from her body. She gave him life by sprinkling the Holy Ganges water on \\nhim and entruste d him with guarding the door.  \\nWhile she was away, Lord Shiva returned and was surprised to find a little boy standing at \\nthe entrance to his wife’s chamber. When he tried to enter, the boy blocked his path. “Who \\nare you and why are you blocking my path?” d emanded Lord Shiva. “No one enters my \\nmother’s chamber”, declared the boy boldly. Taken aback, Lord Shiva replied, “Step away; I \\nhave the right to enter my wife’s chamber.” But the young and courageous boy did not \\nmove but stood his ground. Not knowing tha t this was his own son, Lord Shiva who was \\nquick to anger grew enraged. Not used to be disobeyed he cut off the boy’s head.  \\nGoddess Parvathi on returning from her bath saw her son lying dead and was overcome \\nwith grief. She was filled with both anger and s orrow. Seeing this Lord Shiva sent his soldiers \\nto fetch the head of the first beast that they saw. The men rushed and finally came upon an \\nelephant. They immediately took the head to Lord Shiva, who quickly attached it onto the \\nbody of the slain boy and g ave him life once again.')]"
      ]
     },
     "execution_count": 34,
     "metadata": {},
     "output_type": "execute_result"
    }
   ],
   "source": [
    "docs"
   ]
  },
  {
   "cell_type": "code",
   "execution_count": 27,
   "id": "814b9d09-6aba-4b14-9281-c687ff8bf057",
   "metadata": {},
   "outputs": [],
   "source": [
    "model = ChatGoogleGenerativeAI(model=\"gemini-pro\",\n",
    "                             temperature=0.3)"
   ]
  },
  {
   "cell_type": "code",
   "execution_count": 28,
   "id": "dd1528d6-df8c-4c37-8f5e-54ad001fc30f",
   "metadata": {},
   "outputs": [],
   "source": [
    "prompt_template = \"\"\"Answer the question as precise as possible using the provided context. If the answer is\n",
    "                    not contained in the context, say \"answer not available in context\" \\n\\n\n",
    "                    Context: \\n {context}?\\n\n",
    "                    Question: \\n {question} \\n\n",
    "                    Answer:\n",
    "                  \"\"\"\n",
    "\n",
    "prompt = PromptTemplate(\n",
    "    template=prompt_template, input_variables=[\"context\", \"question\"]\n",
    ")"
   ]
  },
  {
   "cell_type": "code",
   "execution_count": 35,
   "id": "18867988-66d0-4bc4-b47a-e4ec4955cf62",
   "metadata": {},
   "outputs": [],
   "source": [
    "stuff_chain = load_qa_chain(model, chain_type=\"stuff\", prompt=prompt)"
   ]
  },
  {
   "cell_type": "code",
   "execution_count": 38,
   "id": "27071e44-b1f4-4781-a330-a6cc09c233a8",
   "metadata": {},
   "outputs": [],
   "source": [
    "stuff_answer = stuff_chain(\n",
    "    {\"input_documents\": docs, \"question\": question}, return_only_outputs=True\n",
    ")"
   ]
  },
  {
   "cell_type": "code",
   "execution_count": 39,
   "id": "05a050fd-1d52-4b2d-a870-ea3b66dd0957",
   "metadata": {},
   "outputs": [
    {
     "name": "stdout",
     "output_type": "stream",
     "text": [
      "{'output_text': \"A farmer had puppies he wanted to sell. He put up a sign advertising them. A little boy came up to the farmer and asked to see the puppies. The farmer told him that they were from good parents and cost a lot of money. The boy didn't have enough money, but the farmer let him look at the puppies anyway. The boy noticed one of the puppies was smaller and limping. He asked the farmer about it, and the farmer said that the puppy would never be able to run and play like the others. The boy said he wanted that puppy because he understood what it was like to have a disability. The farmer was touched by the boy's words and gave him the puppy for free.\"}\n"
     ]
    }
   ],
   "source": [
    "print(stuff_answer)"
   ]
  },
  {
   "cell_type": "code",
   "execution_count": 37,
   "id": "7a8602c2-8b2c-4211-8016-e0d41042d01d",
   "metadata": {},
   "outputs": [],
   "source": [
    "question = \"Explain me the story puppies for sale in layman terms\"\n",
    "\n",
    "docs = vector_index.get_relevant_documents(question)"
   ]
  },
  {
   "cell_type": "code",
   "execution_count": null,
   "id": "2eed1e7e-8e47-4f31-aa93-7fcc4feb5d1b",
   "metadata": {},
   "outputs": [],
   "source": []
  },
  {
   "cell_type": "code",
   "execution_count": null,
   "id": "d345e2c9-419e-48f9-acb0-593ab5d37309",
   "metadata": {},
   "outputs": [],
   "source": []
  }
 ],
 "metadata": {
  "kernelspec": {
   "display_name": "Python 3 (ipykernel)",
   "language": "python",
   "name": "python3"
  },
  "language_info": {
   "codemirror_mode": {
    "name": "ipython",
    "version": 3
   },
   "file_extension": ".py",
   "mimetype": "text/x-python",
   "name": "python",
   "nbconvert_exporter": "python",
   "pygments_lexer": "ipython3",
   "version": "3.11.7"
  }
 },
 "nbformat": 4,
 "nbformat_minor": 5
}
